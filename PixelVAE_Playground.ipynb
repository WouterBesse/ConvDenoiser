{
 "cells": [
  {
   "attachments": {},
   "cell_type": "markdown",
   "metadata": {},
   "source": [
    "# PixelCNN Denoiser"
   ]
  },
  {
   "attachments": {},
   "cell_type": "markdown",
   "metadata": {},
   "source": [
    "## Set up variables for training"
   ]
  },
  {
   "cell_type": "code",
   "execution_count": null,
   "metadata": {},
   "outputs": [],
   "source": [
    "import models.PixelVAEDenoiser as PAE\n",
    "import torch\n",
    "from torch import nn\n",
    "import numpy as np\n",
    "from tqdm import tqdm\n",
    "from torch.utils.data import DataLoader\n",
    "\n",
    "learning_rate = 0.001\n",
    "batchsize = 128\n",
    "epochs = 5\n",
    "# loss_fn = torch.nn.MSELoss()\n",
    "loss_fn = torch.nn.BCEWithLogitsLoss()\n",
    "device='cuda'\n",
    "\n",
    "# Model hyperparameters\n",
    "features = 60\n",
    "rec_field = 256\n",
    "encdec_channels = [16, 64, 128]\n",
    "upsamples = [2, 2, 2]\n",
    "latent_space_dim = 32\n",
    "embedding_dim = 64\n",
    "\n",
    "encoder = PAE.Encoder(input_size = (features, rec_field), channel_sizes = encdec_channels, upsamples = upsamples, zsize = latent_space_dim, use_bn = True)\n",
    "decoder = PAE.Decoder(input_size = (features, rec_field), channel_sizes = encdec_channels, upsamples = upsamples, zsize = latent_space_dim, use_bn = True, out_channels = 32)\n",
    "pixcnn  = PAE.LGated(input_sizes = (32, features, rec_field), conditional_channels = 20, num_layers = 3, k = 7, padding = 7 // 2)\n",
    "\n",
    "models = [encoder, decoder, pixcnn]\n",
    "params = []\n",
    "\n",
    "if torch.cuda.is_available():\n",
    "    for m in models:\n",
    "        m.cuda()\n",
    "        params.extend(m.parameters())\n",
    "    \n",
    "# spdataset = TimbreDataset(\"G:/Projects/2022-2023/ConvDenoiser/dataset/output5/sp/\", \"G:/Projects/2022-2023/ConvDenoiser/dataset/output5/csp/\", 256)\n",
    "# sptestdataset = TimbreDataset(\"G:/Projects/2022-2023/ConvDenoiser/dataset/output4test/sp/\", \"G:/Projects/2022-2023/ConvDenoiser/dataset/output4test/csp/\", 256)\n",
    "spdataset = PAE.SPDataset(\"./traindataset/sp/\", \"./traindataset/csp/\", segments = rec_field)\n",
    "sptestdataset = PAE.SPDataset(\"./testdatset/sp/\", \"./testdatset/csp/\", segments = rec_field)\n",
    "\n",
    "spdataloader = DataLoader(spdataset, batch_size=batchsize, shuffle=True, pin_memory = False)\n",
    "sptestdataloader = DataLoader(sptestdataset, batch_size=64, shuffle=False, pin_memory = False)\n",
    "\n",
    "\n",
    "optimizer=torch.optim.Adam(params, lr=learning_rate)\n",
    "# scheduler = torch.optim.lr_scheduler.ExponentialLR(optimizer, gamma=0.9)\n",
    "lossy = 0\n",
    "step = 0\n",
    "\n",
    "device_count = torch.cuda.device_count()\n",
    "\n",
    "# if device_count > 1:\n",
    "#     spdenoiser = nn.DataParallel(spdenoiser)\n",
    "#     print('multiple device using :', device_count)"
   ]
  },
  {
   "attachments": {},
   "cell_type": "markdown",
   "metadata": {},
   "source": [
    "### Test empty tensor to check if model gives errors"
   ]
  },
  {
   "cell_type": "code",
   "execution_count": null,
   "metadata": {},
   "outputs": [
    {
     "ename": "",
     "evalue": "",
     "output_type": "error",
     "traceback": [
      "\u001b[1;31mRunning cells with '/usr/bin/python3' requires the ipykernel package.\n",
      "\u001b[1;31mRun the following command to install 'ipykernel' into the Python environment. \n",
      "\u001b[1;31mCommand: '/usr/bin/python3 -m pip install ipykernel -U --user --force-reinstall'"
     ]
    }
   ],
   "source": [
    "import models.PixelVAEDenoiser as PAE\n",
    "import torch\n",
    "\n",
    "device = 'cuda'\n",
    "\n",
    "print(bool(encoder))\n",
    "features = 60\n",
    "rec_field = 256\n",
    "\n",
    "if bool(encoder):\n",
    "    # Model hyperparameters\n",
    "    encdec_channels = [16, 64, 128]\n",
    "    upsamples = [2, 2, 2]\n",
    "    latent_space_dim = 32\n",
    "    embedding_dim = 64\n",
    "\n",
    "    encoder = PAE.Encoder(input_size = (features, rec_field), channel_sizes = encdec_channels, upsamples = upsamples, zsize = latent_space_dim, use_bn = True)\n",
    "    decoder = PAE.Decoder(input_size = (features, rec_field), channel_sizes = encdec_channels, upsamples = upsamples, zsize = latent_space_dim, use_bn = True, out_channels = 32)\n",
    "    pixcnn  = PAE.LGated(input_sizes = (32, features, rec_field), conditional_channels = 20, num_layers = 3, k = 7, padding = 7 // 2)\n",
    "\n",
    "    models = [encoder, decoder, pixcnn]\n",
    "\n",
    "    if torch.cuda.is_available():\n",
    "        for m in models:\n",
    "            m.cuda()\n",
    "        device = 'cuda'\n",
    "    else:\n",
    "        device = 'cpu'\n",
    "\n",
    "sample = torch.zeros(72, 1, features, rec_field).to(\"device\")\n",
    "testinput = torch.rand((1,1,60,256)).to(device)\n",
    "testz = encoder(testinput)\n",
    "testy = decoder(testz)\n",
    "testx_hat = pixcnn(sample, testy)\n",
    "\n",
    "# inny = testinput.view(testinput.size(0), -1)\n",
    "# outy = inny.view(testinput.size())\n",
    "\n",
    "print(\"Encoder output size:\", testz.size())\n",
    "print(\"Decoder output size:\", testy.size())\n",
    "print(\"PixelCNN output size:\", testx_hat.size())"
   ]
  }
 ],
 "metadata": {
  "kernelspec": {
   "display_name": "Python 3",
   "language": "python",
   "name": "python3"
  },
  "language_info": {
   "name": "python",
   "version": "3.8.10"
  },
  "orig_nbformat": 4,
  "vscode": {
   "interpreter": {
    "hash": "31f2aee4e71d21fbe5cf8b01ff0e069b9275f58929596ceb00d14d90e3e16cd6"
   }
  }
 },
 "nbformat": 4,
 "nbformat_minor": 2
}
