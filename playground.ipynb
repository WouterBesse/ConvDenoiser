{
 "cells": [
  {
   "cell_type": "code",
   "execution_count": 12,
   "metadata": {},
   "outputs": [
    {
     "name": "stdout",
     "output_type": "stream",
     "text": [
      "torch.Size([1, 1, 129, 8])\n",
      "torch.Size([1, 1, 137, 8])\n",
      "torch.Size([1, 18, 129, 1])\n",
      "torch.Size([1, 18, 129, 1])\n",
      "torch.Size([1, 18, 129, 1])\n"
     ]
    }
   ],
   "source": [
    "from torch import nn\n",
    "import numpy as np\n",
    "import torch\n",
    "from torch.distributions.normal import Normal\n",
    "import torch.optim as optim\n",
    "import torch.utils.data\n",
    "\n",
    "zeros = torch.zeros(1, 129, 8)\n",
    "zeros = zeros.unsqueeze(0)\n",
    "print(zeros.size())\n",
    "zeroPadding = nn.ZeroPad2d((0, 0, 4, 4))\n",
    "x = zeroPadding(zeros)\n",
    "print(x.size())\n",
    "conv = nn.Conv1d(1, 18, kernel_size=(9,8), padding='valid', bias=False)\n",
    "x = conv(x)\n",
    "print(x.size())\n",
    "relu = nn.ReLU()\n",
    "x = relu(x)\n",
    "print(x.size())\n",
    "bn = nn.BatchNorm2d(num_features=18)\n",
    "x = bn(x)\n",
    "print(x.size())"
   ]
  },
  {
   "cell_type": "code",
   "execution_count": null,
   "metadata": {},
   "outputs": [],
   "source": [
    "from SPDenoiser import SPDenoiser\n",
    "\n",
    "spdenoiser = SPDenoiser(129, 8)\n",
    "input = torch.zeros(1, 129, 8)\n",
    "input = input.unsqueeze(0)\n",
    "\n",
    "output = spdenoiser(input)"
   ]
  }
 ],
 "metadata": {
  "kernelspec": {
   "display_name": "Python 3.9.13 ('Diffwave')",
   "language": "python",
   "name": "python3"
  },
  "language_info": {
   "codemirror_mode": {
    "name": "ipython",
    "version": 3
   },
   "file_extension": ".py",
   "mimetype": "text/x-python",
   "name": "python",
   "nbconvert_exporter": "python",
   "pygments_lexer": "ipython3",
   "version": "3.9.13"
  },
  "orig_nbformat": 4,
  "vscode": {
   "interpreter": {
    "hash": "021373f7ac18e9089dd34537ccb65de524b69463533c5488800097698329d794"
   }
  }
 },
 "nbformat": 4,
 "nbformat_minor": 2
}
